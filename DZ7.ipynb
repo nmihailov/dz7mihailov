{
 "cells": [
  {
   "cell_type": "code",
   "execution_count": 80,
   "metadata": {},
   "outputs": [
    {
     "name": "stdout",
     "output_type": "stream",
     "text": [
      "Задание 1\n",
      "[('Африки', 42), ('туристов', 40), ('страны', 35), ('Африке', 34), ('компании', 26), ('Wilderness', 23), ('сафари', 22), ('странах', 21), ('туризма', 19), ('Travel', 17)]\n",
      "--------------------\n",
      "Задание 2\n",
      "[('Африки', 42), ('туристов', 40), ('страны', 35), ('Африке', 34), ('компании', 26), ('Wilderness', 23), ('сафари', 22), ('странах', 21), ('туризма', 19), ('Travel', 17)]\n"
     ]
    }
   ],
   "source": [
    "import json\n",
    "from pprint import pprint\n",
    "from collections import Counter\n",
    "\n",
    "x = []\n",
    "rez = []\n",
    "\n",
    "def sortByLength(inputStr):\n",
    "        return len(inputStr)\n",
    "    \n",
    "    \n",
    "with open('newsafr.json') as newsafr_file:\n",
    "    news = json.load(newsafr_file)\n",
    "    news = dict(news)\n",
    "\n",
    "for dicts in news['rss']['channel']['items']:\n",
    "    x += dicts['description'].split()\n",
    "    x.sort(key=sortByLength, reverse=True)\n",
    "\n",
    "for title in x:\n",
    "    if len(title) > 5:\n",
    "        rez.append(title)\n",
    "       \n",
    "rez = Counter(rez)\n",
    "print('Задание 1')\n",
    "print(rez.most_common(10))\n",
    "print('--------------------')\n",
    "\n",
    "\n",
    "\n",
    "##########################################################################\n",
    "\n",
    "\n",
    "import xml.etree.ElementTree as ET\n",
    "tree = ET.parse(\"newsafr.xml\")\n",
    "titles = []\n",
    "res = []\n",
    "root = tree.getroot()\n",
    "xml_title = root.find(\"channel/title\")\n",
    "xml_items = root.findall(\"channel/item\")\n",
    "\n",
    "for item in xml_items:\n",
    "    title = item.find(\"description\")\n",
    "    titles += title.text.split(\" \")\n",
    "\n",
    "    \n",
    "def sortByLength(inputStr):\n",
    "        return len(inputStr)\n",
    "   \n",
    "\n",
    "titles.sort(key=sortByLength, reverse=True)\n",
    "\n",
    "for title in titles:\n",
    "    if len(title) > 5:\n",
    "        res.append(title)\n",
    "\n",
    "res = Counter(res)\n",
    "print('Задание 2')\n",
    "print(res.most_common(10))"
   ]
  },
  {
   "cell_type": "code",
   "execution_count": null,
   "metadata": {},
   "outputs": [],
   "source": []
  }
 ],
 "metadata": {
  "kernelspec": {
   "display_name": "Python 3",
   "language": "python",
   "name": "python3"
  },
  "language_info": {
   "codemirror_mode": {
    "name": "ipython",
    "version": 3
   },
   "file_extension": ".py",
   "mimetype": "text/x-python",
   "name": "python",
   "nbconvert_exporter": "python",
   "pygments_lexer": "ipython3",
   "version": "3.6.5"
  }
 },
 "nbformat": 4,
 "nbformat_minor": 2
}
