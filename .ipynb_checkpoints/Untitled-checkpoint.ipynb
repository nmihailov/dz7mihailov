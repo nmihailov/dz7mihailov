{
 "cells": [
  {
   "cell_type": "code",
   "execution_count": 75,
   "metadata": {},
   "outputs": [
    {
     "name": "stdout",
     "output_type": "stream",
     "text": [
      "[('Африки', 1178), ('туристов', 1120), ('страны', 980), ('Африке', 953), ('компании', 728), ('Wilderness', 644), ('сафари', 616), ('странах', 588), ('туризма', 533), ('Travel', 478)]\n"
     ]
    }
   ],
   "source": [
    "import json\n",
    "from pprint import pprint\n",
    "from collections import Counter\n",
    "\n",
    "def sortByLength(inputStr):\n",
    "        return len(inputStr)\n",
    "    \n",
    "    \n",
    "with open('newsafr.json') as newsafr_file:\n",
    "    news = json.load(newsafr_file)\n",
    "    news = dict(news)\n",
    "\n",
    "for dicts in news['rss']['channel']['items']:\n",
    "    x += dicts['description'].split()\n",
    "    x.sort(key=sortByLength, reverse=True)\n",
    "\n",
    "top = Counter(x)\n",
    "\n",
    "for key in list(top):\n",
    "    if len(key) < 6:\n",
    "        del top[key]\n",
    "       \n",
    "\n",
    "print(top.most_common(10))\n",
    "\n"
   ]
  },
  {
   "cell_type": "code",
   "execution_count": null,
   "metadata": {},
   "outputs": [],
   "source": []
  }
 ],
 "metadata": {
  "kernelspec": {
   "display_name": "Python 3",
   "language": "python",
   "name": "python3"
  },
  "language_info": {
   "codemirror_mode": {
    "name": "ipython",
    "version": 3
   },
   "file_extension": ".py",
   "mimetype": "text/x-python",
   "name": "python",
   "nbconvert_exporter": "python",
   "pygments_lexer": "ipython3",
   "version": "3.6.5"
  }
 },
 "nbformat": 4,
 "nbformat_minor": 2
}
